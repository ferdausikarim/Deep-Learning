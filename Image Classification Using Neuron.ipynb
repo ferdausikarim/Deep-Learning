{
 "cells": [
  {
   "cell_type": "markdown",
   "id": "56aafb89",
   "metadata": {},
   "source": [
    "# Assignment :Image Classification Using Neuron"
   ]
  },
  {
   "cell_type": "code",
   "execution_count": null,
   "id": "7cbb1a17",
   "metadata": {},
   "outputs": [],
   "source": [
    "# Change the datasets shape \n",
    "#Add extra nuron with activation function \"Relu\" don't use \"tanh\" activation function\n",
    "#Submit it on your gitHub repository."
   ]
  },
  {
   "cell_type": "code",
   "execution_count": 58,
   "id": "e0a95a4c",
   "metadata": {},
   "outputs": [],
   "source": [
    "from tensorflow.keras.layers import Dense, Conv2D, MaxPooling2D, Flatten, Dropout\n",
    "from tensorflow.keras.models import Sequential\n",
    "from tensorflow.keras.utils import to_categorical\n"
   ]
  },
  {
   "cell_type": "code",
   "execution_count": 59,
   "id": "8e1fb866",
   "metadata": {},
   "outputs": [
    {
     "name": "stdout",
     "output_type": "stream",
     "text": [
      "Requirement already satisfied: opencv-python in c:\\users\\fkari653\\anaconda3\\envs\\dl\\lib\\site-packages (4.5.5.62)\n",
      "Requirement already satisfied: numpy>=1.14.5 in c:\\users\\fkari653\\anaconda3\\envs\\dl\\lib\\site-packages (from opencv-python) (1.19.2)\n",
      "Note: you may need to restart the kernel to use updated packages.\n"
     ]
    }
   ],
   "source": [
    "pip install opencv-python"
   ]
  },
  {
   "cell_type": "code",
   "execution_count": 60,
   "id": "0fd96bf4",
   "metadata": {},
   "outputs": [],
   "source": [
    "import numpy as np\n",
    "import pandas as pd\n",
    "import matplotlib.pyplot as plt\n",
    "%matplotlib inline\n",
    "import cv2"
   ]
  },
  {
   "cell_type": "code",
   "execution_count": 61,
   "id": "432fd2fb",
   "metadata": {},
   "outputs": [
    {
     "data": {
      "text/plain": [
       "'C:\\\\Users\\\\fkari653\\\\Downloads'"
      ]
     },
     "execution_count": 61,
     "metadata": {},
     "output_type": "execute_result"
    }
   ],
   "source": [
    "from sklearn.model_selection import train_test_split\n",
    "import os\n",
    "os.getcwd()"
   ]
  },
  {
   "cell_type": "code",
   "execution_count": 62,
   "id": "fc1d0117",
   "metadata": {},
   "outputs": [],
   "source": [
    "np.random.seed(1)"
   ]
  },
  {
   "cell_type": "code",
   "execution_count": 63,
   "id": "4ff49747",
   "metadata": {},
   "outputs": [],
   "source": [
    "train_images = []\n",
    "train_labels = []\n",
    "shape = (250, 250)\n",
    "\n",
    "train_datasets_path = \"train_zip/train/\"\n",
    "\n",
    "for filename in os.listdir(\"train_zip/train/\"):\n",
    "    if filename.split('.')[1] =='jpg':\n",
    "        img = cv2.imread(os.path.join(train_datasets_path, filename))\n",
    "        train_labels.append(filename.split('_')[0])\n",
    "        img = cv2.resize(img,shape)\n",
    "        train_images.append(img)\n",
    "        \n",
    "        \n",
    "train_labels = pd.get_dummies(train_labels).values\n",
    "train_images = np.array(train_images)"
   ]
  },
  {
   "cell_type": "code",
   "execution_count": 64,
   "id": "0a3b2dd5",
   "metadata": {},
   "outputs": [],
   "source": [
    "x_train, x_test, y_train, y_test = train_test_split(train_images, train_labels, random_state=1)"
   ]
  },
  {
   "cell_type": "code",
   "execution_count": 65,
   "id": "54f3f269",
   "metadata": {},
   "outputs": [],
   "source": [
    "test_images = []\n",
    "test_labels = []\n",
    "shape = (250,250)\n",
    "\n",
    "test_datasets_path = \"test_zip/test/\"\n",
    "\n",
    "for filename in os.listdir(\"test_zip/test/\"):\n",
    "    if filename.split('.')[1] =='jpg':\n",
    "        img = cv2.imread(os.path.join(test_datasets_path, filename))\n",
    "        test_labels.append(filename.split('_')[0])\n",
    "        img = cv2.resize(img,shape)\n",
    "        test_images.append(img)\n",
    "        \n",
    "        \n",
    "test_images = np.array(test_images)"
   ]
  },
  {
   "cell_type": "markdown",
   "id": "23aff249",
   "metadata": {},
   "source": [
    "# Models"
   ]
  },
  {
   "cell_type": "code",
   "execution_count": 66,
   "id": "ce072a5d",
   "metadata": {},
   "outputs": [],
   "source": [
    "model = Sequential()\n",
    "# 1st / Input Layer\n",
    "model.add(Conv2D(kernel_size = (3, 3), filters = 32, activation = 'relu', input_shape = (250, 250, 3)))\n",
    "\n",
    "\n",
    "# 1st Hidden Layer\n",
    "model.add(Conv2D(filters = 30, kernel_size = (3, 3), activation = 'relu'))\n",
    "model.add(MaxPooling2D((2, 2)))\n",
    "\n",
    "# 2nd Hidden Layer\n",
    "model.add(Conv2D(filters = 30, kernel_size = (3, 3), activation = 'relu'))\n",
    "model.add(MaxPooling2D((2, 2)))\n",
    "\n",
    "\n",
    "model.add(Conv2D(filters = 30, kernel_size = (3, 3), activation = 'relu'))\n",
    "model.add(Flatten())\n",
    "\n",
    "\n",
    "model.add(Dense(25, activation = 'relu'))\n",
    "model.add(Dense(20, activation = 'relu'))\n",
    "model.add(Dense(4, activation = 'softmax'))\n"
   ]
  },
  {
   "cell_type": "code",
   "execution_count": 67,
   "id": "c067093c",
   "metadata": {},
   "outputs": [],
   "source": [
    "model.compile(optimizer = 'adam',\n",
    "              loss = 'categorical_crossentropy',\n",
    "             metrics = ['acc'])"
   ]
  },
  {
   "cell_type": "code",
   "execution_count": 68,
   "id": "e8a3b47f",
   "metadata": {},
   "outputs": [
    {
     "name": "stdout",
     "output_type": "stream",
     "text": [
      "Model: \"sequential_6\"\n",
      "_________________________________________________________________\n",
      "Layer (type)                 Output Shape              Param #   \n",
      "=================================================================\n",
      "conv2d_24 (Conv2D)           (None, 248, 248, 32)      896       \n",
      "_________________________________________________________________\n",
      "conv2d_25 (Conv2D)           (None, 246, 246, 30)      8670      \n",
      "_________________________________________________________________\n",
      "max_pooling2d_12 (MaxPooling (None, 123, 123, 30)      0         \n",
      "_________________________________________________________________\n",
      "conv2d_26 (Conv2D)           (None, 121, 121, 30)      8130      \n",
      "_________________________________________________________________\n",
      "max_pooling2d_13 (MaxPooling (None, 60, 60, 30)        0         \n",
      "_________________________________________________________________\n",
      "conv2d_27 (Conv2D)           (None, 58, 58, 30)        8130      \n",
      "_________________________________________________________________\n",
      "flatten_6 (Flatten)          (None, 100920)            0         \n",
      "_________________________________________________________________\n",
      "dense_18 (Dense)             (None, 25)                2523025   \n",
      "_________________________________________________________________\n",
      "dense_19 (Dense)             (None, 20)                520       \n",
      "_________________________________________________________________\n",
      "dense_20 (Dense)             (None, 4)                 84        \n",
      "=================================================================\n",
      "Total params: 2,549,455\n",
      "Trainable params: 2,549,455\n",
      "Non-trainable params: 0\n",
      "_________________________________________________________________\n"
     ]
    }
   ],
   "source": [
    "model.summary()"
   ]
  },
  {
   "cell_type": "code",
   "execution_count": 69,
   "id": "26f312d2",
   "metadata": {},
   "outputs": [
    {
     "name": "stdout",
     "output_type": "stream",
     "text": [
      "Epoch 1/5\n",
      "4/4 [==============================] - 28s 7s/step - loss: 199.0635 - acc: 0.2667 - val_loss: 20.2736 - val_acc: 0.3000\n",
      "Epoch 2/5\n",
      "4/4 [==============================] - 26s 7s/step - loss: 19.5407 - acc: 0.3944 - val_loss: 4.8963 - val_acc: 0.4500\n",
      "Epoch 3/5\n",
      "4/4 [==============================] - 26s 6s/step - loss: 7.6280 - acc: 0.4111 - val_loss: 2.7690 - val_acc: 0.5667\n",
      "Epoch 4/5\n",
      "4/4 [==============================] - 26s 6s/step - loss: 3.4967 - acc: 0.5722 - val_loss: 0.7908 - val_acc: 0.7000\n",
      "Epoch 5/5\n",
      "4/4 [==============================] - 26s 6s/step - loss: 0.9050 - acc: 0.7167 - val_loss: 0.8400 - val_acc: 0.7500\n"
     ]
    }
   ],
   "source": [
    "model_data  = model.fit(x_train, \n",
    "                        y_train,\n",
    "                       epochs=5,\n",
    "                       batch_size = 50,\n",
    "                       validation_data=(x_test, y_test))"
   ]
  },
  {
   "cell_type": "code",
   "execution_count": 70,
   "id": "4c5ebb74",
   "metadata": {},
   "outputs": [
    {
     "name": "stdout",
     "output_type": "stream",
     "text": [
      "2/2 [==============================] - 1s 734ms/step - loss: 0.8400 - acc: 0.7500\n"
     ]
    }
   ],
   "source": [
    "model_evaluate = model.evaluate(x_test, y_test)"
   ]
  },
  {
   "cell_type": "code",
   "execution_count": 71,
   "id": "ed025e09",
   "metadata": {},
   "outputs": [
    {
     "name": "stdout",
     "output_type": "stream",
     "text": [
      "[0.8400037288665771, 0.75]\n"
     ]
    }
   ],
   "source": [
    "print(model_evaluate)"
   ]
  },
  {
   "cell_type": "code",
   "execution_count": 72,
   "id": "bb0273aa",
   "metadata": {},
   "outputs": [
    {
     "data": {
      "image/png": "[encoded data removed]",
      "text/plain": [
       "<Figure size 432x288 with 1 Axes>"
      ]
     },
     "metadata": {
      "needs_background": "light"
     },
     "output_type": "display_data"
    }
   ],
   "source": [
    "plt.plot(model_data.history['loss'])\n",
    "plt.plot(model_data.history['val_loss'])\n",
    "plt.title(\"Model Loss\")\n",
    "plt.xlabel(\"Loss\")\n",
    "plt.ylabel('epochs')\n",
    "plt.tight_layout()\n",
    "plt.legend(['train', 'test'], loc = 'upper left')\n",
    "plt.show()"
   ]
  },
  {
   "cell_type": "code",
   "execution_count": 73,
   "id": "cb9411c1",
   "metadata": {},
   "outputs": [
    {
     "data": {
      "image/png": "[encoded data removed]",
      "text/plain": [
       "<Figure size 432x288 with 1 Axes>"
      ]
     },
     "metadata": {
      "needs_background": "light"
     },
     "output_type": "display_data"
    }
   ],
   "source": [
    "plt.plot(model_data.history['acc'])\n",
    "plt.plot(model_data.history['val_acc'])\n",
    "plt.title(\"Model Accuracy\")\n",
    "plt.xlabel(\"accuracy\")\n",
    "plt.ylabel('epochs')\n",
    "plt.tight_layout()\n",
    "plt.legend(['train', 'test'], loc = 'upper left')\n",
    "plt.show()"
   ]
  },
  {
   "cell_type": "code",
   "execution_count": 74,
   "id": "7b360987",
   "metadata": {},
   "outputs": [
    {
     "name": "stdout",
     "output_type": "stream",
     "text": [
      "WARNING:tensorflow:5 out of the last 6 calls to <function Model.make_predict_function.<locals>.predict_function at 0x000001429D140CA8> triggered tf.function retracing. Tracing is expensive and the excessive number of tracings could be due to (1) creating @tf.function repeatedly in a loop, (2) passing tensors with different shapes, (3) passing Python objects instead of tensors. For (1), please define your @tf.function outside of the loop. For (2), @tf.function has experimental_relax_shapes=True option that relaxes argument shapes that can avoid unnecessary retracing. For (3), please refer to https://www.tensorflow.org/tutorials/customization/performance#python_or_tensor_args and https://www.tensorflow.org/api_docs/python/tf/function for  more details.\n",
      "Actual values names: \t ['apple']\n",
      "Pridicted Values names: \t apple\n"
     ]
    }
   ],
   "source": [
    "image_name = test_images[0:1]\n",
    "label_names = test_labels[0:1]\n",
    "\n",
    "predicted = model.predict(np.array(image_name))\n",
    "output = {0: 'apple', \n",
    "         1: \"banana\",\n",
    "         2: 'mixed',\n",
    "         3: 'orange'}\n",
    "\n",
    "\n",
    "print(\"Actual values names: \\t\", label_names)\n",
    "print(\"Pridicted Values names: \\t\", output[np.argmax(predicted)])"
   ]
  },
  {
   "cell_type": "markdown",
   "id": "197312a9",
   "metadata": {},
   "source": [
    "# Comment"
   ]
  },
  {
   "cell_type": "code",
   "execution_count": null,
   "id": "8b83771a",
   "metadata": {},
   "outputs": [],
   "source": [
    "\n",
    "#I changed the data shape by (100,100),(150,150)(300,300).Atlast I put (250,250).It gives me the Highest Accurecy: 0.7500 and \n",
    "Loss: 0.8400037288665771.\n",
    "# I also increas the Dence size by (25,15)and (25,20).Instead of activation Function tanh I use relu.\n",
    "#Finally,I got the result that The acctual image and my predicted image are same: Apple\n",
    "\n",
    "## the Model has worked proprly for the given Datasets.\n"
   ]
  },
  {
   "cell_type": "code",
   "execution_count": null,
   "id": "31a6ec91",
   "metadata": {},
   "outputs": [],
   "source": []
  },
  {
   "cell_type": "code",
   "execution_count": null,
   "id": "30aa5490",
   "metadata": {},
   "outputs": [],
   "source": []
  }
 ],
 "metadata": {
  "kernelspec": {
   "display_name": "Python 3 (ipykernel)",
   "language": "python",
   "name": "python3"
  },
  "language_info": {
   "codemirror_mode": {
    "name": "ipython",
    "version": 3
   },
   "file_extension": ".py",
   "mimetype": "text/x-python",
   "name": "python",
   "nbconvert_exporter": "python",
   "pygments_lexer": "ipython3",
   "version": "3.7.11"
  }
 },
 "nbformat": 4,
 "nbformat_minor": 5
}
