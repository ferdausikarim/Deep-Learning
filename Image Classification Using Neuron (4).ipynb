{
 "cells": [
  {
   "cell_type": "markdown",
   "id": "b94d68ce",
   "metadata": {},
   "source": [
    "# Assignment :Image Classification Using Neuron"
   ]
  },
  {
   "cell_type": "code",
   "execution_count": 1,
   "id": "e7f353dd",
   "metadata": {},
   "outputs": [],
   "source": [
    "# Change the datasets shape \n",
    "#Add extra nuron with activation function \"Relu\" don't use \"tanh\" activation function\n",
    "#Submit it on your gitHub repository."
   ]
  },
  {
   "cell_type": "code",
   "execution_count": 2,
   "id": "83d30c27",
   "metadata": {},
   "outputs": [],
   "source": [
    "import numpy as np\n",
    "import pandas as pd\n",
    "import matplotlib.pyplot as plt\n",
    "%matplotlib inline\n",
    "import cv2"
   ]
  },
  {
   "cell_type": "code",
   "execution_count": 3,
   "id": "9c6594ec",
   "metadata": {},
   "outputs": [],
   "source": [
    "from tensorflow.keras.layers import Dense, Conv2D, MaxPooling2D, Flatten, Dropout\n",
    "from tensorflow.keras.models import Sequential\n",
    "from tensorflow.keras.utils import to_categorical\n"
   ]
  },
  {
   "cell_type": "code",
   "execution_count": 4,
   "id": "b12b90be",
   "metadata": {},
   "outputs": [
    {
     "name": "stdout",
     "output_type": "stream",
     "text": [
      "Requirement already satisfied: opencv-python in c:\\users\\fkari653\\anaconda3\\envs\\dl\\lib\\site-packages (4.5.5.62)\n",
      "Requirement already satisfied: numpy>=1.14.5 in c:\\users\\fkari653\\anaconda3\\envs\\dl\\lib\\site-packages (from opencv-python) (1.19.2)\n",
      "Note: you may need to restart the kernel to use updated packages.\n"
     ]
    }
   ],
   "source": [
    "pip install opencv-python"
   ]
  },
  {
   "cell_type": "code",
   "execution_count": 5,
   "id": "d99b49fe",
   "metadata": {},
   "outputs": [
    {
     "data": {
      "text/plain": [
       "'C:\\\\Users\\\\fkari653\\\\Downloads'"
      ]
     },
     "execution_count": 5,
     "metadata": {},
     "output_type": "execute_result"
    }
   ],
   "source": [
    "from sklearn.model_selection import train_test_split\n",
    "import os\n",
    "os.getcwd()"
   ]
  },
  {
   "cell_type": "code",
   "execution_count": 6,
   "id": "dd071330",
   "metadata": {},
   "outputs": [],
   "source": [
    "np.random.seed(1)"
   ]
  },
  {
   "cell_type": "code",
   "execution_count": 7,
   "id": "4593345e",
   "metadata": {},
   "outputs": [],
   "source": [
    "train_images = []\n",
    "train_labels = []\n",
    "shape = (150, 150)\n",
    "\n",
    "train_datasets_path = \"train_zip/train/\"\n",
    "\n",
    "for filename in os.listdir(\"train_zip/train/\"):\n",
    "    if filename.split('.')[1] =='jpg':\n",
    "        img = cv2.imread(os.path.join(train_datasets_path, filename))\n",
    "        train_labels.append(filename.split('_')[0])\n",
    "        img = cv2.resize(img,shape)\n",
    "        train_images.append(img)\n",
    "        \n",
    "        \n",
    "train_labels = pd.get_dummies(train_labels).values\n",
    "train_images = np.array(train_images)"
   ]
  },
  {
   "cell_type": "code",
   "execution_count": 8,
   "id": "d7ddee03",
   "metadata": {},
   "outputs": [],
   "source": [
    "x_train, x_test, y_train, y_test = train_test_split(train_images, train_labels, random_state=1)"
   ]
  },
  {
   "cell_type": "code",
   "execution_count": 9,
   "id": "650b91d7",
   "metadata": {},
   "outputs": [],
   "source": [
    "test_images = []\n",
    "test_labels = []\n",
    "shape = (150,150)\n",
    "\n",
    "test_datasets_path = \"test_zip/test/\"\n",
    "\n",
    "for filename in os.listdir(\"test_zip/test/\"):\n",
    "    if filename.split('.')[1] =='jpg':\n",
    "        img = cv2.imread(os.path.join(test_datasets_path, filename))\n",
    "        test_labels.append(filename.split('_')[0])\n",
    "        img = cv2.resize(img,shape)\n",
    "        test_images.append(img)\n",
    "        \n",
    "        \n",
    "test_images = np.array(test_images)"
   ]
  },
  {
   "cell_type": "markdown",
   "id": "dd11e809",
   "metadata": {},
   "source": [
    "# Models"
   ]
  },
  {
   "cell_type": "code",
   "execution_count": 20,
   "id": "75035ab8",
   "metadata": {},
   "outputs": [],
   "source": [
    "model = Sequential()\n",
    "# 1st / Input Layer\n",
    "model.add(Conv2D(kernel_size = (3, 3), filters = 32, activation = 'relu', input_shape = (150, 150, 3)))\n",
    "\n",
    "\n",
    "# 1st Hidden Layer\n",
    "model.add(Conv2D(filters = 64, kernel_size = (3, 3), activation = 'relu'))\n",
    "model.add(MaxPooling2D((2, 2)))\n",
    "\n",
    "# 2nd Hidden Layer\n",
    "model.add(Conv2D(filters = 128, kernel_size = (3, 3), activation = 'relu'))\n",
    "model.add(MaxPooling2D((2, 2)))\n",
    "\n",
    "##bridge Layer\n",
    "model.add(Flatten())\n",
    "\n",
    "\n",
    "# Output Layer\n",
    "\n",
    "model.add(Dense(150, activation = 'relu'))\n",
    "model.add(Dense(130, activation = 'relu'))\n",
    "model.add(Dense(4, activation = 'softmax'))\n"
   ]
  },
  {
   "cell_type": "code",
   "execution_count": 21,
   "id": "cf2752e9",
   "metadata": {},
   "outputs": [],
   "source": [
    "model.compile(optimizer = 'adam',\n",
    "              loss = 'categorical_crossentropy',\n",
    "             metrics = ['acc'])"
   ]
  },
  {
   "cell_type": "code",
   "execution_count": 22,
   "id": "90b9520d",
   "metadata": {},
   "outputs": [
    {
     "name": "stdout",
     "output_type": "stream",
     "text": [
      "Model: \"sequential_1\"\n",
      "_________________________________________________________________\n",
      "Layer (type)                 Output Shape              Param #   \n",
      "=================================================================\n",
      "conv2d_3 (Conv2D)            (None, 148, 148, 32)      896       \n",
      "_________________________________________________________________\n",
      "conv2d_4 (Conv2D)            (None, 146, 146, 64)      18496     \n",
      "_________________________________________________________________\n",
      "max_pooling2d_2 (MaxPooling2 (None, 73, 73, 64)        0         \n",
      "_________________________________________________________________\n",
      "conv2d_5 (Conv2D)            (None, 71, 71, 128)       73856     \n",
      "_________________________________________________________________\n",
      "max_pooling2d_3 (MaxPooling2 (None, 35, 35, 128)       0         \n",
      "_________________________________________________________________\n",
      "flatten_1 (Flatten)          (None, 156800)            0         \n",
      "_________________________________________________________________\n",
      "dense_3 (Dense)              (None, 150)               23520150  \n",
      "_________________________________________________________________\n",
      "dense_4 (Dense)              (None, 130)               19630     \n",
      "_________________________________________________________________\n",
      "dense_5 (Dense)              (None, 4)                 524       \n",
      "=================================================================\n",
      "Total params: 23,633,552\n",
      "Trainable params: 23,633,552\n",
      "Non-trainable params: 0\n",
      "_________________________________________________________________\n"
     ]
    }
   ],
   "source": [
    "model.summary()"
   ]
  },
  {
   "cell_type": "code",
   "execution_count": 23,
   "id": "a8b40273",
   "metadata": {},
   "outputs": [
    {
     "name": "stdout",
     "output_type": "stream",
     "text": [
      "Epoch 1/5\n",
      "4/4 [==============================] - 18s 4s/step - loss: 1050.8163 - acc: 0.2222 - val_loss: 155.6985 - val_acc: 0.2833\n",
      "Epoch 2/5\n",
      "4/4 [==============================] - 17s 4s/step - loss: 74.5418 - acc: 0.2889 - val_loss: 5.2044 - val_acc: 0.3667\n",
      "Epoch 3/5\n",
      "4/4 [==============================] - 17s 4s/step - loss: 7.6205 - acc: 0.3611 - val_loss: 2.1251 - val_acc: 0.4000\n",
      "Epoch 4/5\n",
      "4/4 [==============================] - 18s 5s/step - loss: 1.4182 - acc: 0.5389 - val_loss: 1.6840 - val_acc: 0.5167\n",
      "Epoch 5/5\n",
      "4/4 [==============================] - 17s 4s/step - loss: 0.8156 - acc: 0.6333 - val_loss: 1.0126 - val_acc: 0.5333\n"
     ]
    }
   ],
   "source": [
    "model_data  = model.fit(x_train, \n",
    "                        y_train,\n",
    "                       epochs=5,\n",
    "                       batch_size = 50,\n",
    "                       validation_data=(x_test, y_test))"
   ]
  },
  {
   "cell_type": "code",
   "execution_count": 24,
   "id": "8134356b",
   "metadata": {},
   "outputs": [
    {
     "name": "stdout",
     "output_type": "stream",
     "text": [
      "2/2 [==============================] - 1s 483ms/step - loss: 1.0126 - acc: 0.5333\n"
     ]
    }
   ],
   "source": [
    "model_evaluate = model.evaluate(x_test, y_test)"
   ]
  },
  {
   "cell_type": "code",
   "execution_count": 25,
   "id": "578a0caf",
   "metadata": {},
   "outputs": [
    {
     "name": "stdout",
     "output_type": "stream",
     "text": [
      "[1.0125737190246582, 0.5333333611488342]\n"
     ]
    }
   ],
   "source": [
    "print(model_evaluate)"
   ]
  },
  {
   "cell_type": "code",
   "execution_count": 26,
   "id": "6dbc98fc",
   "metadata": {},
   "outputs": [
    {
     "data": {
      "image/png": "[encoded data removed]",
      "text/plain": [
       "<Figure size 432x288 with 1 Axes>"
      ]
     },
     "metadata": {
      "needs_background": "light"
     },
     "output_type": "display_data"
    }
   ],
   "source": [
    "plt.plot(model_data.history['loss'])\n",
    "plt.plot(model_data.history['val_loss'])\n",
    "plt.title(\"Model Loss\")\n",
    "plt.xlabel(\"Loss\")\n",
    "plt.ylabel('epochs')\n",
    "plt.tight_layout()\n",
    "plt.legend(['train', 'test'], loc = 'upper left')\n",
    "plt.show()"
   ]
  },
  {
   "cell_type": "code",
   "execution_count": 27,
   "id": "165cf651",
   "metadata": {},
   "outputs": [
    {
     "data": {
      "image/png": "[encoded data removed]",
      "text/plain": [
       "<Figure size 432x288 with 1 Axes>"
      ]
     },
     "metadata": {
      "needs_background": "light"
     },
     "output_type": "display_data"
    }
   ],
   "source": [
    "plt.plot(model_data.history['acc'])\n",
    "plt.plot(model_data.history['val_acc'])\n",
    "plt.title(\"Model Accuracy\")\n",
    "plt.xlabel(\"accuracy\")\n",
    "plt.ylabel('epochs')\n",
    "plt.tight_layout()\n",
    "plt.legend(['train', 'test'], loc = 'upper left')\n",
    "plt.show()"
   ]
  },
  {
   "cell_type": "code",
   "execution_count": 28,
   "id": "9fd80b6d",
   "metadata": {},
   "outputs": [
    {
     "name": "stdout",
     "output_type": "stream",
     "text": [
      "Actual values names: \t ['apple']\n",
      "Pridicted Values names: \t apple\n"
     ]
    }
   ],
   "source": [
    "image_name = test_images[0:1]\n",
    "label_names = test_labels[0:1]\n",
    "\n",
    "predicted = model.predict(np.array(image_name))\n",
    "output = {0: 'apple', \n",
    "         1: \"banana\",\n",
    "         2: 'mixed',\n",
    "         3: 'orange'}\n",
    "\n",
    "\n",
    "print(\"Actual values names: \\t\", label_names)\n",
    "print(\"Pridicted Values names: \\t\", output[np.argmax(predicted)])"
   ]
  },
  {
   "cell_type": "markdown",
   "id": "7f19b287",
   "metadata": {},
   "source": [
    "# Comment"
   ]
  },
  {
   "cell_type": "code",
   "execution_count": null,
   "id": "efadf213",
   "metadata": {},
   "outputs": [],
   "source": []
  },
  {
   "cell_type": "code",
   "execution_count": null,
   "id": "ce239901",
   "metadata": {},
   "outputs": [],
   "source": []
  }
 ],
 "metadata": {
  "kernelspec": {
   "display_name": "Python 3 (ipykernel)",
   "language": "python",
   "name": "python3"
  },
  "language_info": {
   "codemirror_mode": {
    "name": "ipython",
    "version": 3
   },
   "file_extension": ".py",
   "mimetype": "text/x-python",
   "name": "python",
   "nbconvert_exporter": "python",
   "pygments_lexer": "ipython3",
   "version": "3.7.11"
  }
 },
 "nbformat": 4,
 "nbformat_minor": 5
}
